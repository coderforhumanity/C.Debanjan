{
 "cells": [
  {
   "cell_type": "code",
   "execution_count": 51,
   "id": "42ea02d9-71ff-442c-b49f-baa4bcb2651f",
   "metadata": {},
   "outputs": [],
   "source": [
    "import numpy as np\n",
    "import pandas as pd\n",
    "import matplotlib.pyplot as plt"
   ]
  },
  {
   "cell_type": "code",
   "execution_count": 2,
   "id": "fa74119c-7e25-4448-a3b7-692f1957b428",
   "metadata": {},
   "outputs": [
    {
     "data": {
      "text/html": [
       "<div>\n",
       "<style scoped>\n",
       "    .dataframe tbody tr th:only-of-type {\n",
       "        vertical-align: middle;\n",
       "    }\n",
       "\n",
       "    .dataframe tbody tr th {\n",
       "        vertical-align: top;\n",
       "    }\n",
       "\n",
       "    .dataframe thead th {\n",
       "        text-align: right;\n",
       "    }\n",
       "</style>\n",
       "<table border=\"1\" class=\"dataframe\">\n",
       "  <thead>\n",
       "    <tr style=\"text-align: right;\">\n",
       "      <th></th>\n",
       "      <th>person_age</th>\n",
       "      <th>person_income</th>\n",
       "      <th>person_home_ownership</th>\n",
       "      <th>person_emp_length</th>\n",
       "      <th>loan_intent</th>\n",
       "      <th>loan_grade</th>\n",
       "      <th>loan_amnt</th>\n",
       "      <th>loan_int_rate</th>\n",
       "      <th>loan_status</th>\n",
       "      <th>loan_percent_income</th>\n",
       "      <th>cb_person_default_on_file</th>\n",
       "      <th>cb_person_cred_hist_length</th>\n",
       "    </tr>\n",
       "  </thead>\n",
       "  <tbody>\n",
       "    <tr>\n",
       "      <th>0</th>\n",
       "      <td>22</td>\n",
       "      <td>59000</td>\n",
       "      <td>RENT</td>\n",
       "      <td>123.0</td>\n",
       "      <td>PERSONAL</td>\n",
       "      <td>D</td>\n",
       "      <td>35000</td>\n",
       "      <td>16.02</td>\n",
       "      <td>1</td>\n",
       "      <td>0.59</td>\n",
       "      <td>Y</td>\n",
       "      <td>3</td>\n",
       "    </tr>\n",
       "    <tr>\n",
       "      <th>1</th>\n",
       "      <td>21</td>\n",
       "      <td>9600</td>\n",
       "      <td>OWN</td>\n",
       "      <td>5.0</td>\n",
       "      <td>EDUCATION</td>\n",
       "      <td>B</td>\n",
       "      <td>1000</td>\n",
       "      <td>11.14</td>\n",
       "      <td>0</td>\n",
       "      <td>0.10</td>\n",
       "      <td>N</td>\n",
       "      <td>2</td>\n",
       "    </tr>\n",
       "    <tr>\n",
       "      <th>2</th>\n",
       "      <td>25</td>\n",
       "      <td>9600</td>\n",
       "      <td>MORTGAGE</td>\n",
       "      <td>1.0</td>\n",
       "      <td>MEDICAL</td>\n",
       "      <td>C</td>\n",
       "      <td>5500</td>\n",
       "      <td>12.87</td>\n",
       "      <td>1</td>\n",
       "      <td>0.57</td>\n",
       "      <td>N</td>\n",
       "      <td>3</td>\n",
       "    </tr>\n",
       "    <tr>\n",
       "      <th>3</th>\n",
       "      <td>23</td>\n",
       "      <td>65500</td>\n",
       "      <td>RENT</td>\n",
       "      <td>4.0</td>\n",
       "      <td>MEDICAL</td>\n",
       "      <td>C</td>\n",
       "      <td>35000</td>\n",
       "      <td>15.23</td>\n",
       "      <td>1</td>\n",
       "      <td>0.53</td>\n",
       "      <td>N</td>\n",
       "      <td>2</td>\n",
       "    </tr>\n",
       "    <tr>\n",
       "      <th>4</th>\n",
       "      <td>24</td>\n",
       "      <td>54400</td>\n",
       "      <td>RENT</td>\n",
       "      <td>8.0</td>\n",
       "      <td>MEDICAL</td>\n",
       "      <td>C</td>\n",
       "      <td>35000</td>\n",
       "      <td>14.27</td>\n",
       "      <td>1</td>\n",
       "      <td>0.55</td>\n",
       "      <td>Y</td>\n",
       "      <td>4</td>\n",
       "    </tr>\n",
       "  </tbody>\n",
       "</table>\n",
       "</div>"
      ],
      "text/plain": [
       "   person_age  person_income person_home_ownership  person_emp_length  \\\n",
       "0          22          59000                  RENT              123.0   \n",
       "1          21           9600                   OWN                5.0   \n",
       "2          25           9600              MORTGAGE                1.0   \n",
       "3          23          65500                  RENT                4.0   \n",
       "4          24          54400                  RENT                8.0   \n",
       "\n",
       "  loan_intent loan_grade  loan_amnt  loan_int_rate  loan_status  \\\n",
       "0    PERSONAL          D      35000          16.02            1   \n",
       "1   EDUCATION          B       1000          11.14            0   \n",
       "2     MEDICAL          C       5500          12.87            1   \n",
       "3     MEDICAL          C      35000          15.23            1   \n",
       "4     MEDICAL          C      35000          14.27            1   \n",
       "\n",
       "   loan_percent_income cb_person_default_on_file  cb_person_cred_hist_length  \n",
       "0                 0.59                         Y                           3  \n",
       "1                 0.10                         N                           2  \n",
       "2                 0.57                         N                           3  \n",
       "3                 0.53                         N                           2  \n",
       "4                 0.55                         Y                           4  "
      ]
     },
     "execution_count": 2,
     "metadata": {},
     "output_type": "execute_result"
    }
   ],
   "source": [
    "df1 = pd.read_csv(\"../Data/credit_risk_dataset.csv\")\n",
    "df1.head()"
   ]
  },
  {
   "cell_type": "code",
   "execution_count": 3,
   "id": "7091cf91-0dc3-44d0-bbfe-34fbac71a471",
   "metadata": {},
   "outputs": [
    {
     "data": {
      "text/html": [
       "<div>\n",
       "<style scoped>\n",
       "    .dataframe tbody tr th:only-of-type {\n",
       "        vertical-align: middle;\n",
       "    }\n",
       "\n",
       "    .dataframe tbody tr th {\n",
       "        vertical-align: top;\n",
       "    }\n",
       "\n",
       "    .dataframe thead th {\n",
       "        text-align: right;\n",
       "    }\n",
       "</style>\n",
       "<table border=\"1\" class=\"dataframe\">\n",
       "  <thead>\n",
       "    <tr style=\"text-align: right;\">\n",
       "      <th></th>\n",
       "      <th>person_age</th>\n",
       "      <th>person_income</th>\n",
       "      <th>person_emp_length</th>\n",
       "      <th>loan_amnt</th>\n",
       "      <th>loan_int_rate</th>\n",
       "      <th>loan_status</th>\n",
       "      <th>loan_percent_income</th>\n",
       "      <th>cb_person_cred_hist_length</th>\n",
       "    </tr>\n",
       "  </thead>\n",
       "  <tbody>\n",
       "    <tr>\n",
       "      <th>count</th>\n",
       "      <td>32581.000000</td>\n",
       "      <td>3.258100e+04</td>\n",
       "      <td>31686.000000</td>\n",
       "      <td>32581.000000</td>\n",
       "      <td>29465.000000</td>\n",
       "      <td>32581.000000</td>\n",
       "      <td>32581.000000</td>\n",
       "      <td>32581.000000</td>\n",
       "    </tr>\n",
       "    <tr>\n",
       "      <th>mean</th>\n",
       "      <td>27.734600</td>\n",
       "      <td>6.607485e+04</td>\n",
       "      <td>4.789686</td>\n",
       "      <td>9589.371106</td>\n",
       "      <td>11.011695</td>\n",
       "      <td>0.218164</td>\n",
       "      <td>0.170203</td>\n",
       "      <td>5.804211</td>\n",
       "    </tr>\n",
       "    <tr>\n",
       "      <th>std</th>\n",
       "      <td>6.348078</td>\n",
       "      <td>6.198312e+04</td>\n",
       "      <td>4.142630</td>\n",
       "      <td>6322.086646</td>\n",
       "      <td>3.240459</td>\n",
       "      <td>0.413006</td>\n",
       "      <td>0.106782</td>\n",
       "      <td>4.055001</td>\n",
       "    </tr>\n",
       "    <tr>\n",
       "      <th>min</th>\n",
       "      <td>20.000000</td>\n",
       "      <td>4.000000e+03</td>\n",
       "      <td>0.000000</td>\n",
       "      <td>500.000000</td>\n",
       "      <td>5.420000</td>\n",
       "      <td>0.000000</td>\n",
       "      <td>0.000000</td>\n",
       "      <td>2.000000</td>\n",
       "    </tr>\n",
       "    <tr>\n",
       "      <th>25%</th>\n",
       "      <td>23.000000</td>\n",
       "      <td>3.850000e+04</td>\n",
       "      <td>2.000000</td>\n",
       "      <td>5000.000000</td>\n",
       "      <td>7.900000</td>\n",
       "      <td>0.000000</td>\n",
       "      <td>0.090000</td>\n",
       "      <td>3.000000</td>\n",
       "    </tr>\n",
       "    <tr>\n",
       "      <th>50%</th>\n",
       "      <td>26.000000</td>\n",
       "      <td>5.500000e+04</td>\n",
       "      <td>4.000000</td>\n",
       "      <td>8000.000000</td>\n",
       "      <td>10.990000</td>\n",
       "      <td>0.000000</td>\n",
       "      <td>0.150000</td>\n",
       "      <td>4.000000</td>\n",
       "    </tr>\n",
       "    <tr>\n",
       "      <th>75%</th>\n",
       "      <td>30.000000</td>\n",
       "      <td>7.920000e+04</td>\n",
       "      <td>7.000000</td>\n",
       "      <td>12200.000000</td>\n",
       "      <td>13.470000</td>\n",
       "      <td>0.000000</td>\n",
       "      <td>0.230000</td>\n",
       "      <td>8.000000</td>\n",
       "    </tr>\n",
       "    <tr>\n",
       "      <th>max</th>\n",
       "      <td>144.000000</td>\n",
       "      <td>6.000000e+06</td>\n",
       "      <td>123.000000</td>\n",
       "      <td>35000.000000</td>\n",
       "      <td>23.220000</td>\n",
       "      <td>1.000000</td>\n",
       "      <td>0.830000</td>\n",
       "      <td>30.000000</td>\n",
       "    </tr>\n",
       "  </tbody>\n",
       "</table>\n",
       "</div>"
      ],
      "text/plain": [
       "         person_age  person_income  person_emp_length     loan_amnt  \\\n",
       "count  32581.000000   3.258100e+04       31686.000000  32581.000000   \n",
       "mean      27.734600   6.607485e+04           4.789686   9589.371106   \n",
       "std        6.348078   6.198312e+04           4.142630   6322.086646   \n",
       "min       20.000000   4.000000e+03           0.000000    500.000000   \n",
       "25%       23.000000   3.850000e+04           2.000000   5000.000000   \n",
       "50%       26.000000   5.500000e+04           4.000000   8000.000000   \n",
       "75%       30.000000   7.920000e+04           7.000000  12200.000000   \n",
       "max      144.000000   6.000000e+06         123.000000  35000.000000   \n",
       "\n",
       "       loan_int_rate   loan_status  loan_percent_income  \\\n",
       "count   29465.000000  32581.000000         32581.000000   \n",
       "mean       11.011695      0.218164             0.170203   \n",
       "std         3.240459      0.413006             0.106782   \n",
       "min         5.420000      0.000000             0.000000   \n",
       "25%         7.900000      0.000000             0.090000   \n",
       "50%        10.990000      0.000000             0.150000   \n",
       "75%        13.470000      0.000000             0.230000   \n",
       "max        23.220000      1.000000             0.830000   \n",
       "\n",
       "       cb_person_cred_hist_length  \n",
       "count                32581.000000  \n",
       "mean                     5.804211  \n",
       "std                      4.055001  \n",
       "min                      2.000000  \n",
       "25%                      3.000000  \n",
       "50%                      4.000000  \n",
       "75%                      8.000000  \n",
       "max                     30.000000  "
      ]
     },
     "execution_count": 3,
     "metadata": {},
     "output_type": "execute_result"
    }
   ],
   "source": [
    "df1.describe()"
   ]
  },
  {
   "cell_type": "code",
   "execution_count": 4,
   "id": "fbad42a1-a99e-4938-afb2-01081f02af07",
   "metadata": {},
   "outputs": [
    {
     "data": {
      "text/plain": [
       "Index(['person_age', 'person_income', 'person_home_ownership',\n",
       "       'person_emp_length', 'loan_intent', 'loan_grade', 'loan_amnt',\n",
       "       'loan_int_rate', 'loan_status', 'loan_percent_income',\n",
       "       'cb_person_default_on_file', 'cb_person_cred_hist_length'],\n",
       "      dtype='object')"
      ]
     },
     "execution_count": 4,
     "metadata": {},
     "output_type": "execute_result"
    }
   ],
   "source": [
    "df1.columns"
   ]
  },
  {
   "cell_type": "code",
   "execution_count": 8,
   "id": "61bd1f44-16dc-42f2-ab30-c9030bbeb9fe",
   "metadata": {},
   "outputs": [
    {
     "data": {
      "text/plain": [
       "4011"
      ]
     },
     "execution_count": 8,
     "metadata": {},
     "output_type": "execute_result"
    }
   ],
   "source": [
    "df1.isnull().sum().sum()"
   ]
  },
  {
   "cell_type": "code",
   "execution_count": 9,
   "id": "c7210183-4940-4e59-80be-58733f9a66b4",
   "metadata": {},
   "outputs": [],
   "source": [
    "df1 = df1.dropna()"
   ]
  },
  {
   "cell_type": "code",
   "execution_count": 10,
   "id": "731503b5-525b-4c32-9b56-67d09e4efa01",
   "metadata": {},
   "outputs": [
    {
     "data": {
      "text/plain": [
       "0"
      ]
     },
     "execution_count": 10,
     "metadata": {},
     "output_type": "execute_result"
    }
   ],
   "source": [
    "df1.isnull().sum().sum()"
   ]
  },
  {
   "cell_type": "code",
   "execution_count": 12,
   "id": "8a9f3d53-57e0-43f0-855d-f3e595c81e08",
   "metadata": {},
   "outputs": [
    {
     "data": {
      "text/plain": [
       "Index(['person_age', 'person_income', 'person_home_ownership',\n",
       "       'person_emp_length', 'loan_intent', 'loan_grade', 'loan_amnt',\n",
       "       'loan_int_rate', 'loan_status', 'loan_percent_income',\n",
       "       'cb_person_default_on_file', 'cb_person_cred_hist_length'],\n",
       "      dtype='object')"
      ]
     },
     "execution_count": 12,
     "metadata": {},
     "output_type": "execute_result"
    }
   ],
   "source": [
    "df1.columns"
   ]
  },
  {
   "cell_type": "code",
   "execution_count": 17,
   "id": "86d24308-8801-4432-a3b4-5dabe84693c2",
   "metadata": {},
   "outputs": [
    {
     "name": "stdout",
     "output_type": "stream",
     "text": [
      "min age :  20\n",
      "max age :  144\n"
     ]
    }
   ],
   "source": [
    "print(\"min age : \" ,min(df1[\"person_age\"]))\n",
    "print(\"max age : \" ,max(df1[\"person_age\"]))"
   ]
  },
  {
   "cell_type": "code",
   "execution_count": 22,
   "id": "0c9368de-f253-4358-8789-059ee0d296a8",
   "metadata": {},
   "outputs": [
    {
     "data": {
      "text/plain": [
       "78        1\n",
       "84        1\n",
       "80        1\n",
       "67        1\n",
       "76        1\n",
       "123       1\n",
       "73        2\n",
       "63        3\n",
       "144       3\n",
       "59        5\n",
       "69        5\n",
       "65        5\n",
       "70        5\n",
       "62        6\n",
       "64        7\n",
       "61        8\n",
       "66        8\n",
       "60       13\n",
       "20       14\n",
       "56       14\n",
       "57       15\n",
       "58       17\n",
       "55       18\n",
       "54       21\n",
       "53       26\n",
       "51       33\n",
       "52       33\n",
       "49       41\n",
       "50       45\n",
       "48       65\n",
       "47       76\n",
       "46       86\n",
       "45       91\n",
       "44      116\n",
       "43      142\n",
       "42      165\n",
       "41      218\n",
       "40      236\n",
       "39      270\n",
       "38      321\n",
       "37      409\n",
       "36      482\n",
       "35      559\n",
       "34      625\n",
       "33      758\n",
       "32      860\n",
       "31     1008\n",
       "21     1061\n",
       "30     1126\n",
       "29     1493\n",
       "28     1624\n",
       "27     1887\n",
       "26     2201\n",
       "25     2700\n",
       "24     3130\n",
       "22     3163\n",
       "23     3413\n",
       "Name: person_age, dtype: int64"
      ]
     },
     "execution_count": 22,
     "metadata": {},
     "output_type": "execute_result"
    }
   ],
   "source": [
    "df1[\"person_age\"].value_counts(ascending=True)"
   ]
  },
  {
   "cell_type": "code",
   "execution_count": 24,
   "id": "879b0dd4-ced9-49df-a201-2e449a95a76d",
   "metadata": {},
   "outputs": [
    {
     "data": {
      "text/html": [
       "<div>\n",
       "<style scoped>\n",
       "    .dataframe tbody tr th:only-of-type {\n",
       "        vertical-align: middle;\n",
       "    }\n",
       "\n",
       "    .dataframe tbody tr th {\n",
       "        vertical-align: top;\n",
       "    }\n",
       "\n",
       "    .dataframe thead th {\n",
       "        text-align: right;\n",
       "    }\n",
       "</style>\n",
       "<table border=\"1\" class=\"dataframe\">\n",
       "  <thead>\n",
       "    <tr style=\"text-align: right;\">\n",
       "      <th></th>\n",
       "      <th>person_age</th>\n",
       "      <th>person_income</th>\n",
       "      <th>person_home_ownership</th>\n",
       "      <th>person_emp_length</th>\n",
       "      <th>loan_intent</th>\n",
       "      <th>loan_grade</th>\n",
       "      <th>loan_amnt</th>\n",
       "      <th>loan_int_rate</th>\n",
       "      <th>loan_status</th>\n",
       "      <th>loan_percent_income</th>\n",
       "      <th>cb_person_default_on_file</th>\n",
       "      <th>cb_person_cred_hist_length</th>\n",
       "    </tr>\n",
       "  </thead>\n",
       "  <tbody>\n",
       "    <tr>\n",
       "      <th>81</th>\n",
       "      <td>144</td>\n",
       "      <td>250000</td>\n",
       "      <td>RENT</td>\n",
       "      <td>4.0</td>\n",
       "      <td>VENTURE</td>\n",
       "      <td>C</td>\n",
       "      <td>4800</td>\n",
       "      <td>13.57</td>\n",
       "      <td>0</td>\n",
       "      <td>0.02</td>\n",
       "      <td>N</td>\n",
       "      <td>3</td>\n",
       "    </tr>\n",
       "    <tr>\n",
       "      <th>183</th>\n",
       "      <td>144</td>\n",
       "      <td>200000</td>\n",
       "      <td>MORTGAGE</td>\n",
       "      <td>4.0</td>\n",
       "      <td>EDUCATION</td>\n",
       "      <td>B</td>\n",
       "      <td>6000</td>\n",
       "      <td>11.86</td>\n",
       "      <td>0</td>\n",
       "      <td>0.03</td>\n",
       "      <td>N</td>\n",
       "      <td>2</td>\n",
       "    </tr>\n",
       "    <tr>\n",
       "      <th>575</th>\n",
       "      <td>123</td>\n",
       "      <td>80004</td>\n",
       "      <td>RENT</td>\n",
       "      <td>2.0</td>\n",
       "      <td>EDUCATION</td>\n",
       "      <td>B</td>\n",
       "      <td>20400</td>\n",
       "      <td>10.25</td>\n",
       "      <td>0</td>\n",
       "      <td>0.25</td>\n",
       "      <td>N</td>\n",
       "      <td>3</td>\n",
       "    </tr>\n",
       "    <tr>\n",
       "      <th>32297</th>\n",
       "      <td>144</td>\n",
       "      <td>6000000</td>\n",
       "      <td>MORTGAGE</td>\n",
       "      <td>12.0</td>\n",
       "      <td>PERSONAL</td>\n",
       "      <td>C</td>\n",
       "      <td>5000</td>\n",
       "      <td>12.73</td>\n",
       "      <td>0</td>\n",
       "      <td>0.00</td>\n",
       "      <td>N</td>\n",
       "      <td>25</td>\n",
       "    </tr>\n",
       "  </tbody>\n",
       "</table>\n",
       "</div>"
      ],
      "text/plain": [
       "       person_age  person_income person_home_ownership  person_emp_length  \\\n",
       "81            144         250000                  RENT                4.0   \n",
       "183           144         200000              MORTGAGE                4.0   \n",
       "575           123          80004                  RENT                2.0   \n",
       "32297         144        6000000              MORTGAGE               12.0   \n",
       "\n",
       "      loan_intent loan_grade  loan_amnt  loan_int_rate  loan_status  \\\n",
       "81        VENTURE          C       4800          13.57            0   \n",
       "183     EDUCATION          B       6000          11.86            0   \n",
       "575     EDUCATION          B      20400          10.25            0   \n",
       "32297    PERSONAL          C       5000          12.73            0   \n",
       "\n",
       "       loan_percent_income cb_person_default_on_file  \\\n",
       "81                    0.02                         N   \n",
       "183                   0.03                         N   \n",
       "575                   0.25                         N   \n",
       "32297                 0.00                         N   \n",
       "\n",
       "       cb_person_cred_hist_length  \n",
       "81                              3  \n",
       "183                             2  \n",
       "575                             3  \n",
       "32297                          25  "
      ]
     },
     "execution_count": 24,
     "metadata": {},
     "output_type": "execute_result"
    }
   ],
   "source": [
    "df1[df1[\"person_age\"] >=100]"
   ]
  },
  {
   "cell_type": "code",
   "execution_count": 66,
   "id": "73db4e48-ca81-4b9b-b613-04119fb07515",
   "metadata": {},
   "outputs": [],
   "source": [
    "df1 = df1[df1[\"person_age\"] <100]"
   ]
  },
  {
   "cell_type": "code",
   "execution_count": 92,
   "id": "bbb84cad-0da9-4cc9-8d71-6bbb8ca40a64",
   "metadata": {},
   "outputs": [
    {
     "data": {
      "text/plain": [
       "<AxesSubplot:>"
      ]
     },
     "execution_count": 92,
     "metadata": {},
     "output_type": "execute_result"
    },
    {
     "data": {
      "image/png": "[encoded data removed]",
      "text/plain": [
       "<Figure size 432x288 with 1 Axes>"
      ]
     },
     "metadata": {
      "needs_background": "light"
     },
     "output_type": "display_data"
    }
   ],
   "source": [
    "df1[\"person_age\"].hist()"
   ]
  },
  {
   "cell_type": "code",
   "execution_count": 67,
   "id": "f780264b-922d-4a28-b40f-3daa54ebbcb9",
   "metadata": {},
   "outputs": [],
   "source": [
    "# person_counts_for_age_less_than_20 = df1[df1[\"person_age\"]<20][\"person_age\"].value_counts().sum()\n",
    "# person_counts_for_age_between_20_30 = df1[(df1[\"person_age\"]>=20) & (df1[\"person_age\"]<30)][\"person_age\"].value_counts().sum()\n",
    "# person_counts_for_age_between_30_60 = df1[(df1[\"person_age\"]>=30) & (df1[\"person_age\"]<60)][\"person_age\"].value_counts().sum()\n",
    "# person_counts_for_age_greater_than_60 = df1[df1[\"person_age\"]>=60].value_counts().sum()"
   ]
  },
  {
   "cell_type": "code",
   "execution_count": 80,
   "id": "7021fb3a-119f-4ae9-9040-8c7ae2c3fdf1",
   "metadata": {},
   "outputs": [
    {
     "data": {
      "text/plain": [
       "(1000.0, 700000.0)"
      ]
     },
     "execution_count": 80,
     "metadata": {},
     "output_type": "execute_result"
    },
    {
     "data": {
      "image/png": "[encoded data removed]",
      "text/plain": [
       "<Figure size 432x288 with 1 Axes>"
      ]
     },
     "metadata": {
      "needs_background": "light"
     },
     "output_type": "display_data"
    }
   ],
   "source": [
    "df1[\"person_income\"].hist()\n",
    "plt.xlim(xmin=1000, xmax = 700000)"
   ]
  },
  {
   "cell_type": "code",
   "execution_count": 72,
   "id": "4f12be55-11a9-4d38-963f-d9b9dc3ff8ec",
   "metadata": {},
   "outputs": [
    {
     "name": "stdout",
     "output_type": "stream",
     "text": [
      "min income :  4000\n",
      "max income :  2039784\n"
     ]
    }
   ],
   "source": [
    "print(\"min income : \" ,min(df1[\"person_income\"]))\n",
    "print(\"max income : \", max(df1[\"person_income\"]))"
   ]
  },
  {
   "cell_type": "code",
   "execution_count": 79,
   "id": "6d705046-32ae-4ce8-a412-11fc04b1b550",
   "metadata": {},
   "outputs": [],
   "source": [
    "# 0-50,000       --> lower class\n",
    "# 50,000-150,000 --> middle class\n",
    "# >150,000       --> upper class\n",
    "\n",
    "# person_counts_for_income_less_than_50k = df1[df1[\"person_income\"]<50000][\"person_income\"].value_counts().sum()\n",
    "# person_counts_for_income_between_50k_150k = df1[(df1[\"person_income\"]>=50000) & (df1[\"person_income\"]<150000)][\"person_income\"].value_counts().sum()\n",
    "# person_counts_for_income_greater_than_150k = df1[df1[\"person_income\"]>=150000].value_counts().sum()"
   ]
  },
  {
   "cell_type": "code",
   "execution_count": 81,
   "id": "1bcbcca2-52d8-4592-9f6c-6aa36454b6e0",
   "metadata": {},
   "outputs": [
    {
     "name": "stdout",
     "output_type": "stream",
     "text": [
      "{'OTHER', 'MORTGAGE', 'OWN', 'RENT'}\n"
     ]
    }
   ],
   "source": [
    "print(set(df1[\"person_home_ownership\"]))"
   ]
  },
  {
   "cell_type": "code",
   "execution_count": 82,
   "id": "0ade015e-e7fe-41f8-8281-14d8bacbc815",
   "metadata": {},
   "outputs": [
    {
     "name": "stdout",
     "output_type": "stream",
     "text": [
      "{0.0, 1.0, 2.0, 3.0, 4.0, 5.0, 6.0, 7.0, 8.0, 9.0, 10.0, 11.0, 12.0, 13.0, 14.0, 15.0, 16.0, 17.0, 18.0, 19.0, 20.0, 21.0, 22.0, 23.0, 24.0, 25.0, 26.0, 27.0, 28.0, 29.0, 30.0, 31.0, 34.0, 38.0, 41.0, 123.0}\n"
     ]
    }
   ],
   "source": [
    "print(set(df1[\"person_emp_length\"]))"
   ]
  },
  {
   "cell_type": "code",
   "execution_count": 83,
   "id": "1c8387d3-8f64-4a92-9036-2a9cc4a4cd18",
   "metadata": {},
   "outputs": [],
   "source": [
    "df1 = df1[df1[\"person_emp_length\"]!=123.0]"
   ]
  },
  {
   "cell_type": "code",
   "execution_count": 85,
   "id": "dac0cae7-d793-4855-a421-d717758b2591",
   "metadata": {},
   "outputs": [
    {
     "data": {
      "text/html": [
       "<div>\n",
       "<style scoped>\n",
       "    .dataframe tbody tr th:only-of-type {\n",
       "        vertical-align: middle;\n",
       "    }\n",
       "\n",
       "    .dataframe tbody tr th {\n",
       "        vertical-align: top;\n",
       "    }\n",
       "\n",
       "    .dataframe thead th {\n",
       "        text-align: right;\n",
       "    }\n",
       "</style>\n",
       "<table border=\"1\" class=\"dataframe\">\n",
       "  <thead>\n",
       "    <tr style=\"text-align: right;\">\n",
       "      <th></th>\n",
       "      <th>person_age</th>\n",
       "      <th>person_income</th>\n",
       "      <th>person_home_ownership</th>\n",
       "      <th>person_emp_length</th>\n",
       "      <th>loan_intent</th>\n",
       "      <th>loan_grade</th>\n",
       "      <th>loan_amnt</th>\n",
       "      <th>loan_int_rate</th>\n",
       "      <th>loan_status</th>\n",
       "      <th>loan_percent_income</th>\n",
       "      <th>cb_person_default_on_file</th>\n",
       "      <th>cb_person_cred_hist_length</th>\n",
       "    </tr>\n",
       "  </thead>\n",
       "  <tbody>\n",
       "    <tr>\n",
       "      <th>1</th>\n",
       "      <td>21</td>\n",
       "      <td>9600</td>\n",
       "      <td>OWN</td>\n",
       "      <td>5.0</td>\n",
       "      <td>EDUCATION</td>\n",
       "      <td>B</td>\n",
       "      <td>1000</td>\n",
       "      <td>11.14</td>\n",
       "      <td>0</td>\n",
       "      <td>0.10</td>\n",
       "      <td>N</td>\n",
       "      <td>2</td>\n",
       "    </tr>\n",
       "    <tr>\n",
       "      <th>2</th>\n",
       "      <td>25</td>\n",
       "      <td>9600</td>\n",
       "      <td>MORTGAGE</td>\n",
       "      <td>1.0</td>\n",
       "      <td>MEDICAL</td>\n",
       "      <td>C</td>\n",
       "      <td>5500</td>\n",
       "      <td>12.87</td>\n",
       "      <td>1</td>\n",
       "      <td>0.57</td>\n",
       "      <td>N</td>\n",
       "      <td>3</td>\n",
       "    </tr>\n",
       "    <tr>\n",
       "      <th>3</th>\n",
       "      <td>23</td>\n",
       "      <td>65500</td>\n",
       "      <td>RENT</td>\n",
       "      <td>4.0</td>\n",
       "      <td>MEDICAL</td>\n",
       "      <td>C</td>\n",
       "      <td>35000</td>\n",
       "      <td>15.23</td>\n",
       "      <td>1</td>\n",
       "      <td>0.53</td>\n",
       "      <td>N</td>\n",
       "      <td>2</td>\n",
       "    </tr>\n",
       "    <tr>\n",
       "      <th>4</th>\n",
       "      <td>24</td>\n",
       "      <td>54400</td>\n",
       "      <td>RENT</td>\n",
       "      <td>8.0</td>\n",
       "      <td>MEDICAL</td>\n",
       "      <td>C</td>\n",
       "      <td>35000</td>\n",
       "      <td>14.27</td>\n",
       "      <td>1</td>\n",
       "      <td>0.55</td>\n",
       "      <td>Y</td>\n",
       "      <td>4</td>\n",
       "    </tr>\n",
       "    <tr>\n",
       "      <th>5</th>\n",
       "      <td>21</td>\n",
       "      <td>9900</td>\n",
       "      <td>OWN</td>\n",
       "      <td>2.0</td>\n",
       "      <td>VENTURE</td>\n",
       "      <td>A</td>\n",
       "      <td>2500</td>\n",
       "      <td>7.14</td>\n",
       "      <td>1</td>\n",
       "      <td>0.25</td>\n",
       "      <td>N</td>\n",
       "      <td>2</td>\n",
       "    </tr>\n",
       "    <tr>\n",
       "      <th>...</th>\n",
       "      <td>...</td>\n",
       "      <td>...</td>\n",
       "      <td>...</td>\n",
       "      <td>...</td>\n",
       "      <td>...</td>\n",
       "      <td>...</td>\n",
       "      <td>...</td>\n",
       "      <td>...</td>\n",
       "      <td>...</td>\n",
       "      <td>...</td>\n",
       "      <td>...</td>\n",
       "      <td>...</td>\n",
       "    </tr>\n",
       "    <tr>\n",
       "      <th>32576</th>\n",
       "      <td>57</td>\n",
       "      <td>53000</td>\n",
       "      <td>MORTGAGE</td>\n",
       "      <td>1.0</td>\n",
       "      <td>PERSONAL</td>\n",
       "      <td>C</td>\n",
       "      <td>5800</td>\n",
       "      <td>13.16</td>\n",
       "      <td>0</td>\n",
       "      <td>0.11</td>\n",
       "      <td>N</td>\n",
       "      <td>30</td>\n",
       "    </tr>\n",
       "    <tr>\n",
       "      <th>32577</th>\n",
       "      <td>54</td>\n",
       "      <td>120000</td>\n",
       "      <td>MORTGAGE</td>\n",
       "      <td>4.0</td>\n",
       "      <td>PERSONAL</td>\n",
       "      <td>A</td>\n",
       "      <td>17625</td>\n",
       "      <td>7.49</td>\n",
       "      <td>0</td>\n",
       "      <td>0.15</td>\n",
       "      <td>N</td>\n",
       "      <td>19</td>\n",
       "    </tr>\n",
       "    <tr>\n",
       "      <th>32578</th>\n",
       "      <td>65</td>\n",
       "      <td>76000</td>\n",
       "      <td>RENT</td>\n",
       "      <td>3.0</td>\n",
       "      <td>HOMEIMPROVEMENT</td>\n",
       "      <td>B</td>\n",
       "      <td>35000</td>\n",
       "      <td>10.99</td>\n",
       "      <td>1</td>\n",
       "      <td>0.46</td>\n",
       "      <td>N</td>\n",
       "      <td>28</td>\n",
       "    </tr>\n",
       "    <tr>\n",
       "      <th>32579</th>\n",
       "      <td>56</td>\n",
       "      <td>150000</td>\n",
       "      <td>MORTGAGE</td>\n",
       "      <td>5.0</td>\n",
       "      <td>PERSONAL</td>\n",
       "      <td>B</td>\n",
       "      <td>15000</td>\n",
       "      <td>11.48</td>\n",
       "      <td>0</td>\n",
       "      <td>0.10</td>\n",
       "      <td>N</td>\n",
       "      <td>26</td>\n",
       "    </tr>\n",
       "    <tr>\n",
       "      <th>32580</th>\n",
       "      <td>66</td>\n",
       "      <td>42000</td>\n",
       "      <td>RENT</td>\n",
       "      <td>2.0</td>\n",
       "      <td>MEDICAL</td>\n",
       "      <td>B</td>\n",
       "      <td>6475</td>\n",
       "      <td>9.99</td>\n",
       "      <td>0</td>\n",
       "      <td>0.15</td>\n",
       "      <td>N</td>\n",
       "      <td>30</td>\n",
       "    </tr>\n",
       "  </tbody>\n",
       "</table>\n",
       "<p>28632 rows × 12 columns</p>\n",
       "</div>"
      ],
      "text/plain": [
       "       person_age  person_income person_home_ownership  person_emp_length  \\\n",
       "1              21           9600                   OWN                5.0   \n",
       "2              25           9600              MORTGAGE                1.0   \n",
       "3              23          65500                  RENT                4.0   \n",
       "4              24          54400                  RENT                8.0   \n",
       "5              21           9900                   OWN                2.0   \n",
       "...           ...            ...                   ...                ...   \n",
       "32576          57          53000              MORTGAGE                1.0   \n",
       "32577          54         120000              MORTGAGE                4.0   \n",
       "32578          65          76000                  RENT                3.0   \n",
       "32579          56         150000              MORTGAGE                5.0   \n",
       "32580          66          42000                  RENT                2.0   \n",
       "\n",
       "           loan_intent loan_grade  loan_amnt  loan_int_rate  loan_status  \\\n",
       "1            EDUCATION          B       1000          11.14            0   \n",
       "2              MEDICAL          C       5500          12.87            1   \n",
       "3              MEDICAL          C      35000          15.23            1   \n",
       "4              MEDICAL          C      35000          14.27            1   \n",
       "5              VENTURE          A       2500           7.14            1   \n",
       "...                ...        ...        ...            ...          ...   \n",
       "32576         PERSONAL          C       5800          13.16            0   \n",
       "32577         PERSONAL          A      17625           7.49            0   \n",
       "32578  HOMEIMPROVEMENT          B      35000          10.99            1   \n",
       "32579         PERSONAL          B      15000          11.48            0   \n",
       "32580          MEDICAL          B       6475           9.99            0   \n",
       "\n",
       "       loan_percent_income cb_person_default_on_file  \\\n",
       "1                     0.10                         N   \n",
       "2                     0.57                         N   \n",
       "3                     0.53                         N   \n",
       "4                     0.55                         Y   \n",
       "5                     0.25                         N   \n",
       "...                    ...                       ...   \n",
       "32576                 0.11                         N   \n",
       "32577                 0.15                         N   \n",
       "32578                 0.46                         N   \n",
       "32579                 0.10                         N   \n",
       "32580                 0.15                         N   \n",
       "\n",
       "       cb_person_cred_hist_length  \n",
       "1                               2  \n",
       "2                               3  \n",
       "3                               2  \n",
       "4                               4  \n",
       "5                               2  \n",
       "...                           ...  \n",
       "32576                          30  \n",
       "32577                          19  \n",
       "32578                          28  \n",
       "32579                          26  \n",
       "32580                          30  \n",
       "\n",
       "[28632 rows x 12 columns]"
      ]
     },
     "execution_count": 85,
     "metadata": {},
     "output_type": "execute_result"
    }
   ],
   "source": [
    "df1"
   ]
  },
  {
   "cell_type": "code",
   "execution_count": 86,
   "id": "5b06c607-e855-40bb-93d3-c92e4aad8f01",
   "metadata": {},
   "outputs": [
    {
     "name": "stdout",
     "output_type": "stream",
     "text": [
      "{'DEBTCONSOLIDATION', 'HOMEIMPROVEMENT', 'VENTURE', 'PERSONAL', 'EDUCATION', 'MEDICAL'}\n"
     ]
    }
   ],
   "source": [
    "print(set(df1[\"loan_intent\"]))"
   ]
  },
  {
   "cell_type": "code",
   "execution_count": 87,
   "id": "a1526db6-8b5a-422a-9c14-75a89be0a974",
   "metadata": {},
   "outputs": [
    {
     "name": "stdout",
     "output_type": "stream",
     "text": [
      "{'C', 'F', 'E', 'B', 'G', 'A', 'D'}\n"
     ]
    }
   ],
   "source": [
    "print(set(df1[\"loan_grade\"]))"
   ]
  },
  {
   "cell_type": "code",
   "execution_count": 90,
   "id": "2229feca-ed14-44a0-b963-dab81402e536",
   "metadata": {},
   "outputs": [
    {
     "name": "stdout",
     "output_type": "stream",
     "text": [
      "min amount :  500\n",
      "max amount :  35000\n"
     ]
    }
   ],
   "source": [
    "print(\"min amount : \" ,min(df1[\"loan_amnt\"]))\n",
    "print(\"max amount : \", max(df1[\"loan_amnt\"]))"
   ]
  },
  {
   "cell_type": "code",
   "execution_count": 91,
   "id": "641fe12b-63b9-4cdd-8f81-d92a4f4cf84f",
   "metadata": {},
   "outputs": [
    {
     "data": {
      "text/plain": [
       "<AxesSubplot:>"
      ]
     },
     "execution_count": 91,
     "metadata": {},
     "output_type": "execute_result"
    },
    {
     "data": {
      "image/png": "[encoded data removed]",
      "text/plain": [
       "<Figure size 432x288 with 1 Axes>"
      ]
     },
     "metadata": {
      "needs_background": "light"
     },
     "output_type": "display_data"
    }
   ],
   "source": [
    "df1[\"loan_amnt\"].hist()"
   ]
  },
  {
   "cell_type": "code",
   "execution_count": 93,
   "id": "9ee7ded0-744e-41e7-9d9c-f457f3f1d658",
   "metadata": {},
   "outputs": [
    {
     "data": {
      "text/plain": [
       "<AxesSubplot:>"
      ]
     },
     "execution_count": 93,
     "metadata": {},
     "output_type": "execute_result"
    },
    {
     "data": {
      "image/png": "[encoded data removed]",
      "text/plain": [
       "<Figure size 432x288 with 1 Axes>"
      ]
     },
     "metadata": {
      "needs_background": "light"
     },
     "output_type": "display_data"
    }
   ],
   "source": [
    "df1[\"loan_int_rate\"].hist()"
   ]
  },
  {
   "cell_type": "code",
   "execution_count": 94,
   "id": "dd2344a6-82d3-4307-9ea7-a58b42a6933b",
   "metadata": {},
   "outputs": [
    {
     "name": "stdout",
     "output_type": "stream",
     "text": [
      "{0, 1}\n"
     ]
    }
   ],
   "source": [
    "print(set(df1[\"loan_status\"]))"
   ]
  },
  {
   "cell_type": "code",
   "execution_count": 95,
   "id": "b6736564-6faf-4a6e-a153-2a4f742cd4f6",
   "metadata": {},
   "outputs": [
    {
     "data": {
      "text/plain": [
       "<AxesSubplot:>"
      ]
     },
     "execution_count": 95,
     "metadata": {},
     "output_type": "execute_result"
    },
    {
     "data": {
      "image/png": "[encoded data removed]",
      "text/plain": [
       "<Figure size 432x288 with 1 Axes>"
      ]
     },
     "metadata": {
      "needs_background": "light"
     },
     "output_type": "display_data"
    }
   ],
   "source": [
    "df1[\"loan_percent_income\"].hist()"
   ]
  },
  {
   "cell_type": "code",
   "execution_count": 96,
   "id": "55b398db-85ab-4d75-b427-a721bc7ee632",
   "metadata": {},
   "outputs": [
    {
     "name": "stdout",
     "output_type": "stream",
     "text": [
      "{'N', 'Y'}\n"
     ]
    }
   ],
   "source": [
    "print(set(df1[\"cb_person_default_on_file\"]))"
   ]
  },
  {
   "cell_type": "code",
   "execution_count": 97,
   "id": "eff359eb-d3c8-420c-923e-0a70d932d35a",
   "metadata": {},
   "outputs": [
    {
     "data": {
      "text/plain": [
       "<AxesSubplot:>"
      ]
     },
     "execution_count": 97,
     "metadata": {},
     "output_type": "execute_result"
    },
    {
     "data": {
      "image/png": "[encoded data removed]",
      "text/plain": [
       "<Figure size 432x288 with 1 Axes>"
      ]
     },
     "metadata": {
      "needs_background": "light"
     },
     "output_type": "display_data"
    }
   ],
   "source": [
    "df1[\"cb_person_cred_hist_length\"].hist()"
   ]
  },
  {
   "cell_type": "code",
   "execution_count": 98,
   "id": "126ae98d-a72e-4af9-98ec-38c91e88da40",
   "metadata": {},
   "outputs": [
    {
     "data": {
      "text/html": [
       "<div>\n",
       "<style scoped>\n",
       "    .dataframe tbody tr th:only-of-type {\n",
       "        vertical-align: middle;\n",
       "    }\n",
       "\n",
       "    .dataframe tbody tr th {\n",
       "        vertical-align: top;\n",
       "    }\n",
       "\n",
       "    .dataframe thead th {\n",
       "        text-align: right;\n",
       "    }\n",
       "</style>\n",
       "<table border=\"1\" class=\"dataframe\">\n",
       "  <thead>\n",
       "    <tr style=\"text-align: right;\">\n",
       "      <th></th>\n",
       "      <th>person_age</th>\n",
       "      <th>person_income</th>\n",
       "      <th>person_home_ownership</th>\n",
       "      <th>person_emp_length</th>\n",
       "      <th>loan_intent</th>\n",
       "      <th>loan_grade</th>\n",
       "      <th>loan_amnt</th>\n",
       "      <th>loan_int_rate</th>\n",
       "      <th>loan_status</th>\n",
       "      <th>loan_percent_income</th>\n",
       "      <th>cb_person_default_on_file</th>\n",
       "      <th>cb_person_cred_hist_length</th>\n",
       "    </tr>\n",
       "  </thead>\n",
       "  <tbody>\n",
       "    <tr>\n",
       "      <th>1</th>\n",
       "      <td>21</td>\n",
       "      <td>9600</td>\n",
       "      <td>OWN</td>\n",
       "      <td>5.0</td>\n",
       "      <td>EDUCATION</td>\n",
       "      <td>B</td>\n",
       "      <td>1000</td>\n",
       "      <td>11.14</td>\n",
       "      <td>0</td>\n",
       "      <td>0.10</td>\n",
       "      <td>N</td>\n",
       "      <td>2</td>\n",
       "    </tr>\n",
       "    <tr>\n",
       "      <th>2</th>\n",
       "      <td>25</td>\n",
       "      <td>9600</td>\n",
       "      <td>MORTGAGE</td>\n",
       "      <td>1.0</td>\n",
       "      <td>MEDICAL</td>\n",
       "      <td>C</td>\n",
       "      <td>5500</td>\n",
       "      <td>12.87</td>\n",
       "      <td>1</td>\n",
       "      <td>0.57</td>\n",
       "      <td>N</td>\n",
       "      <td>3</td>\n",
       "    </tr>\n",
       "    <tr>\n",
       "      <th>3</th>\n",
       "      <td>23</td>\n",
       "      <td>65500</td>\n",
       "      <td>RENT</td>\n",
       "      <td>4.0</td>\n",
       "      <td>MEDICAL</td>\n",
       "      <td>C</td>\n",
       "      <td>35000</td>\n",
       "      <td>15.23</td>\n",
       "      <td>1</td>\n",
       "      <td>0.53</td>\n",
       "      <td>N</td>\n",
       "      <td>2</td>\n",
       "    </tr>\n",
       "    <tr>\n",
       "      <th>4</th>\n",
       "      <td>24</td>\n",
       "      <td>54400</td>\n",
       "      <td>RENT</td>\n",
       "      <td>8.0</td>\n",
       "      <td>MEDICAL</td>\n",
       "      <td>C</td>\n",
       "      <td>35000</td>\n",
       "      <td>14.27</td>\n",
       "      <td>1</td>\n",
       "      <td>0.55</td>\n",
       "      <td>Y</td>\n",
       "      <td>4</td>\n",
       "    </tr>\n",
       "    <tr>\n",
       "      <th>5</th>\n",
       "      <td>21</td>\n",
       "      <td>9900</td>\n",
       "      <td>OWN</td>\n",
       "      <td>2.0</td>\n",
       "      <td>VENTURE</td>\n",
       "      <td>A</td>\n",
       "      <td>2500</td>\n",
       "      <td>7.14</td>\n",
       "      <td>1</td>\n",
       "      <td>0.25</td>\n",
       "      <td>N</td>\n",
       "      <td>2</td>\n",
       "    </tr>\n",
       "    <tr>\n",
       "      <th>...</th>\n",
       "      <td>...</td>\n",
       "      <td>...</td>\n",
       "      <td>...</td>\n",
       "      <td>...</td>\n",
       "      <td>...</td>\n",
       "      <td>...</td>\n",
       "      <td>...</td>\n",
       "      <td>...</td>\n",
       "      <td>...</td>\n",
       "      <td>...</td>\n",
       "      <td>...</td>\n",
       "      <td>...</td>\n",
       "    </tr>\n",
       "    <tr>\n",
       "      <th>32576</th>\n",
       "      <td>57</td>\n",
       "      <td>53000</td>\n",
       "      <td>MORTGAGE</td>\n",
       "      <td>1.0</td>\n",
       "      <td>PERSONAL</td>\n",
       "      <td>C</td>\n",
       "      <td>5800</td>\n",
       "      <td>13.16</td>\n",
       "      <td>0</td>\n",
       "      <td>0.11</td>\n",
       "      <td>N</td>\n",
       "      <td>30</td>\n",
       "    </tr>\n",
       "    <tr>\n",
       "      <th>32577</th>\n",
       "      <td>54</td>\n",
       "      <td>120000</td>\n",
       "      <td>MORTGAGE</td>\n",
       "      <td>4.0</td>\n",
       "      <td>PERSONAL</td>\n",
       "      <td>A</td>\n",
       "      <td>17625</td>\n",
       "      <td>7.49</td>\n",
       "      <td>0</td>\n",
       "      <td>0.15</td>\n",
       "      <td>N</td>\n",
       "      <td>19</td>\n",
       "    </tr>\n",
       "    <tr>\n",
       "      <th>32578</th>\n",
       "      <td>65</td>\n",
       "      <td>76000</td>\n",
       "      <td>RENT</td>\n",
       "      <td>3.0</td>\n",
       "      <td>HOMEIMPROVEMENT</td>\n",
       "      <td>B</td>\n",
       "      <td>35000</td>\n",
       "      <td>10.99</td>\n",
       "      <td>1</td>\n",
       "      <td>0.46</td>\n",
       "      <td>N</td>\n",
       "      <td>28</td>\n",
       "    </tr>\n",
       "    <tr>\n",
       "      <th>32579</th>\n",
       "      <td>56</td>\n",
       "      <td>150000</td>\n",
       "      <td>MORTGAGE</td>\n",
       "      <td>5.0</td>\n",
       "      <td>PERSONAL</td>\n",
       "      <td>B</td>\n",
       "      <td>15000</td>\n",
       "      <td>11.48</td>\n",
       "      <td>0</td>\n",
       "      <td>0.10</td>\n",
       "      <td>N</td>\n",
       "      <td>26</td>\n",
       "    </tr>\n",
       "    <tr>\n",
       "      <th>32580</th>\n",
       "      <td>66</td>\n",
       "      <td>42000</td>\n",
       "      <td>RENT</td>\n",
       "      <td>2.0</td>\n",
       "      <td>MEDICAL</td>\n",
       "      <td>B</td>\n",
       "      <td>6475</td>\n",
       "      <td>9.99</td>\n",
       "      <td>0</td>\n",
       "      <td>0.15</td>\n",
       "      <td>N</td>\n",
       "      <td>30</td>\n",
       "    </tr>\n",
       "  </tbody>\n",
       "</table>\n",
       "<p>28632 rows × 12 columns</p>\n",
       "</div>"
      ],
      "text/plain": [
       "       person_age  person_income person_home_ownership  person_emp_length  \\\n",
       "1              21           9600                   OWN                5.0   \n",
       "2              25           9600              MORTGAGE                1.0   \n",
       "3              23          65500                  RENT                4.0   \n",
       "4              24          54400                  RENT                8.0   \n",
       "5              21           9900                   OWN                2.0   \n",
       "...           ...            ...                   ...                ...   \n",
       "32576          57          53000              MORTGAGE                1.0   \n",
       "32577          54         120000              MORTGAGE                4.0   \n",
       "32578          65          76000                  RENT                3.0   \n",
       "32579          56         150000              MORTGAGE                5.0   \n",
       "32580          66          42000                  RENT                2.0   \n",
       "\n",
       "           loan_intent loan_grade  loan_amnt  loan_int_rate  loan_status  \\\n",
       "1            EDUCATION          B       1000          11.14            0   \n",
       "2              MEDICAL          C       5500          12.87            1   \n",
       "3              MEDICAL          C      35000          15.23            1   \n",
       "4              MEDICAL          C      35000          14.27            1   \n",
       "5              VENTURE          A       2500           7.14            1   \n",
       "...                ...        ...        ...            ...          ...   \n",
       "32576         PERSONAL          C       5800          13.16            0   \n",
       "32577         PERSONAL          A      17625           7.49            0   \n",
       "32578  HOMEIMPROVEMENT          B      35000          10.99            1   \n",
       "32579         PERSONAL          B      15000          11.48            0   \n",
       "32580          MEDICAL          B       6475           9.99            0   \n",
       "\n",
       "       loan_percent_income cb_person_default_on_file  \\\n",
       "1                     0.10                         N   \n",
       "2                     0.57                         N   \n",
       "3                     0.53                         N   \n",
       "4                     0.55                         Y   \n",
       "5                     0.25                         N   \n",
       "...                    ...                       ...   \n",
       "32576                 0.11                         N   \n",
       "32577                 0.15                         N   \n",
       "32578                 0.46                         N   \n",
       "32579                 0.10                         N   \n",
       "32580                 0.15                         N   \n",
       "\n",
       "       cb_person_cred_hist_length  \n",
       "1                               2  \n",
       "2                               3  \n",
       "3                               2  \n",
       "4                               4  \n",
       "5                               2  \n",
       "...                           ...  \n",
       "32576                          30  \n",
       "32577                          19  \n",
       "32578                          28  \n",
       "32579                          26  \n",
       "32580                          30  \n",
       "\n",
       "[28632 rows x 12 columns]"
      ]
     },
     "execution_count": 98,
     "metadata": {},
     "output_type": "execute_result"
    }
   ],
   "source": [
    "df1"
   ]
  },
  {
   "cell_type": "code",
   "execution_count": 99,
   "id": "bf2b2f9b-8022-4ede-8ff0-efaa417845a2",
   "metadata": {},
   "outputs": [],
   "source": [
    "df1.to_csv(r'G:\\Finance and Banking Data Science Projects\\Credit Risk Assesment\\Data\\credit_risk_dataset_cleaned.csv', index=False)"
   ]
  },
  {
   "cell_type": "code",
   "execution_count": null,
   "id": "f1f67bda-4574-4ba7-beff-3a9a7185aeac",
   "metadata": {},
   "outputs": [],
   "source": []
  }
 ],
 "metadata": {
  "kernelspec": {
   "display_name": "Python 3",
   "language": "python",
   "name": "python3"
  },
  "language_info": {
   "codemirror_mode": {
    "name": "ipython",
    "version": 3
   },
   "file_extension": ".py",
   "mimetype": "text/x-python",
   "name": "python",
   "nbconvert_exporter": "python",
   "pygments_lexer": "ipython3",
   "version": "3.8.8"
  }
 },
 "nbformat": 4,
 "nbformat_minor": 5
}
