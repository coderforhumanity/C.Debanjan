{
 "cells": [
  {
   "cell_type": "code",
   "execution_count": 1,
   "id": "50706b2c-f1a8-4884-a65e-375b9958ebda",
   "metadata": {},
   "outputs": [],
   "source": [
    "import numpy as np\n",
    "import pandas as pd\n",
    "import matplotlib.pyplot as plt\n",
    "import seaborn as sns"
   ]
  },
  {
   "cell_type": "code",
   "execution_count": 2,
   "id": "6baf0ce1-5311-4488-9b2c-e065c5366098",
   "metadata": {},
   "outputs": [
    {
     "data": {
      "text/html": [
       "<div>\n",
       "<style scoped>\n",
       "    .dataframe tbody tr th:only-of-type {\n",
       "        vertical-align: middle;\n",
       "    }\n",
       "\n",
       "    .dataframe tbody tr th {\n",
       "        vertical-align: top;\n",
       "    }\n",
       "\n",
       "    .dataframe thead th {\n",
       "        text-align: right;\n",
       "    }\n",
       "</style>\n",
       "<table border=\"1\" class=\"dataframe\">\n",
       "  <thead>\n",
       "    <tr style=\"text-align: right;\">\n",
       "      <th></th>\n",
       "      <th>person_age</th>\n",
       "      <th>person_income</th>\n",
       "      <th>person_home_ownership</th>\n",
       "      <th>person_emp_length</th>\n",
       "      <th>loan_intent</th>\n",
       "      <th>loan_grade</th>\n",
       "      <th>loan_amnt</th>\n",
       "      <th>loan_int_rate</th>\n",
       "      <th>loan_status</th>\n",
       "      <th>loan_percent_income</th>\n",
       "      <th>cb_person_default_on_file</th>\n",
       "      <th>cb_person_cred_hist_length</th>\n",
       "    </tr>\n",
       "  </thead>\n",
       "  <tbody>\n",
       "    <tr>\n",
       "      <th>0</th>\n",
       "      <td>21</td>\n",
       "      <td>9600</td>\n",
       "      <td>OWN</td>\n",
       "      <td>5.0</td>\n",
       "      <td>EDUCATION</td>\n",
       "      <td>B</td>\n",
       "      <td>1000</td>\n",
       "      <td>11.14</td>\n",
       "      <td>0</td>\n",
       "      <td>0.10</td>\n",
       "      <td>N</td>\n",
       "      <td>2</td>\n",
       "    </tr>\n",
       "    <tr>\n",
       "      <th>1</th>\n",
       "      <td>25</td>\n",
       "      <td>9600</td>\n",
       "      <td>MORTGAGE</td>\n",
       "      <td>1.0</td>\n",
       "      <td>MEDICAL</td>\n",
       "      <td>C</td>\n",
       "      <td>5500</td>\n",
       "      <td>12.87</td>\n",
       "      <td>1</td>\n",
       "      <td>0.57</td>\n",
       "      <td>N</td>\n",
       "      <td>3</td>\n",
       "    </tr>\n",
       "    <tr>\n",
       "      <th>2</th>\n",
       "      <td>23</td>\n",
       "      <td>65500</td>\n",
       "      <td>RENT</td>\n",
       "      <td>4.0</td>\n",
       "      <td>MEDICAL</td>\n",
       "      <td>C</td>\n",
       "      <td>35000</td>\n",
       "      <td>15.23</td>\n",
       "      <td>1</td>\n",
       "      <td>0.53</td>\n",
       "      <td>N</td>\n",
       "      <td>2</td>\n",
       "    </tr>\n",
       "    <tr>\n",
       "      <th>3</th>\n",
       "      <td>24</td>\n",
       "      <td>54400</td>\n",
       "      <td>RENT</td>\n",
       "      <td>8.0</td>\n",
       "      <td>MEDICAL</td>\n",
       "      <td>C</td>\n",
       "      <td>35000</td>\n",
       "      <td>14.27</td>\n",
       "      <td>1</td>\n",
       "      <td>0.55</td>\n",
       "      <td>Y</td>\n",
       "      <td>4</td>\n",
       "    </tr>\n",
       "    <tr>\n",
       "      <th>4</th>\n",
       "      <td>21</td>\n",
       "      <td>9900</td>\n",
       "      <td>OWN</td>\n",
       "      <td>2.0</td>\n",
       "      <td>VENTURE</td>\n",
       "      <td>A</td>\n",
       "      <td>2500</td>\n",
       "      <td>7.14</td>\n",
       "      <td>1</td>\n",
       "      <td>0.25</td>\n",
       "      <td>N</td>\n",
       "      <td>2</td>\n",
       "    </tr>\n",
       "    <tr>\n",
       "      <th>...</th>\n",
       "      <td>...</td>\n",
       "      <td>...</td>\n",
       "      <td>...</td>\n",
       "      <td>...</td>\n",
       "      <td>...</td>\n",
       "      <td>...</td>\n",
       "      <td>...</td>\n",
       "      <td>...</td>\n",
       "      <td>...</td>\n",
       "      <td>...</td>\n",
       "      <td>...</td>\n",
       "      <td>...</td>\n",
       "    </tr>\n",
       "    <tr>\n",
       "      <th>28627</th>\n",
       "      <td>57</td>\n",
       "      <td>53000</td>\n",
       "      <td>MORTGAGE</td>\n",
       "      <td>1.0</td>\n",
       "      <td>PERSONAL</td>\n",
       "      <td>C</td>\n",
       "      <td>5800</td>\n",
       "      <td>13.16</td>\n",
       "      <td>0</td>\n",
       "      <td>0.11</td>\n",
       "      <td>N</td>\n",
       "      <td>30</td>\n",
       "    </tr>\n",
       "    <tr>\n",
       "      <th>28628</th>\n",
       "      <td>54</td>\n",
       "      <td>120000</td>\n",
       "      <td>MORTGAGE</td>\n",
       "      <td>4.0</td>\n",
       "      <td>PERSONAL</td>\n",
       "      <td>A</td>\n",
       "      <td>17625</td>\n",
       "      <td>7.49</td>\n",
       "      <td>0</td>\n",
       "      <td>0.15</td>\n",
       "      <td>N</td>\n",
       "      <td>19</td>\n",
       "    </tr>\n",
       "    <tr>\n",
       "      <th>28629</th>\n",
       "      <td>65</td>\n",
       "      <td>76000</td>\n",
       "      <td>RENT</td>\n",
       "      <td>3.0</td>\n",
       "      <td>HOMEIMPROVEMENT</td>\n",
       "      <td>B</td>\n",
       "      <td>35000</td>\n",
       "      <td>10.99</td>\n",
       "      <td>1</td>\n",
       "      <td>0.46</td>\n",
       "      <td>N</td>\n",
       "      <td>28</td>\n",
       "    </tr>\n",
       "    <tr>\n",
       "      <th>28630</th>\n",
       "      <td>56</td>\n",
       "      <td>150000</td>\n",
       "      <td>MORTGAGE</td>\n",
       "      <td>5.0</td>\n",
       "      <td>PERSONAL</td>\n",
       "      <td>B</td>\n",
       "      <td>15000</td>\n",
       "      <td>11.48</td>\n",
       "      <td>0</td>\n",
       "      <td>0.10</td>\n",
       "      <td>N</td>\n",
       "      <td>26</td>\n",
       "    </tr>\n",
       "    <tr>\n",
       "      <th>28631</th>\n",
       "      <td>66</td>\n",
       "      <td>42000</td>\n",
       "      <td>RENT</td>\n",
       "      <td>2.0</td>\n",
       "      <td>MEDICAL</td>\n",
       "      <td>B</td>\n",
       "      <td>6475</td>\n",
       "      <td>9.99</td>\n",
       "      <td>0</td>\n",
       "      <td>0.15</td>\n",
       "      <td>N</td>\n",
       "      <td>30</td>\n",
       "    </tr>\n",
       "  </tbody>\n",
       "</table>\n",
       "<p>28632 rows × 12 columns</p>\n",
       "</div>"
      ],
      "text/plain": [
       "       person_age  person_income person_home_ownership  person_emp_length  \\\n",
       "0              21           9600                   OWN                5.0   \n",
       "1              25           9600              MORTGAGE                1.0   \n",
       "2              23          65500                  RENT                4.0   \n",
       "3              24          54400                  RENT                8.0   \n",
       "4              21           9900                   OWN                2.0   \n",
       "...           ...            ...                   ...                ...   \n",
       "28627          57          53000              MORTGAGE                1.0   \n",
       "28628          54         120000              MORTGAGE                4.0   \n",
       "28629          65          76000                  RENT                3.0   \n",
       "28630          56         150000              MORTGAGE                5.0   \n",
       "28631          66          42000                  RENT                2.0   \n",
       "\n",
       "           loan_intent loan_grade  loan_amnt  loan_int_rate  loan_status  \\\n",
       "0            EDUCATION          B       1000          11.14            0   \n",
       "1              MEDICAL          C       5500          12.87            1   \n",
       "2              MEDICAL          C      35000          15.23            1   \n",
       "3              MEDICAL          C      35000          14.27            1   \n",
       "4              VENTURE          A       2500           7.14            1   \n",
       "...                ...        ...        ...            ...          ...   \n",
       "28627         PERSONAL          C       5800          13.16            0   \n",
       "28628         PERSONAL          A      17625           7.49            0   \n",
       "28629  HOMEIMPROVEMENT          B      35000          10.99            1   \n",
       "28630         PERSONAL          B      15000          11.48            0   \n",
       "28631          MEDICAL          B       6475           9.99            0   \n",
       "\n",
       "       loan_percent_income cb_person_default_on_file  \\\n",
       "0                     0.10                         N   \n",
       "1                     0.57                         N   \n",
       "2                     0.53                         N   \n",
       "3                     0.55                         Y   \n",
       "4                     0.25                         N   \n",
       "...                    ...                       ...   \n",
       "28627                 0.11                         N   \n",
       "28628                 0.15                         N   \n",
       "28629                 0.46                         N   \n",
       "28630                 0.10                         N   \n",
       "28631                 0.15                         N   \n",
       "\n",
       "       cb_person_cred_hist_length  \n",
       "0                               2  \n",
       "1                               3  \n",
       "2                               2  \n",
       "3                               4  \n",
       "4                               2  \n",
       "...                           ...  \n",
       "28627                          30  \n",
       "28628                          19  \n",
       "28629                          28  \n",
       "28630                          26  \n",
       "28631                          30  \n",
       "\n",
       "[28632 rows x 12 columns]"
      ]
     },
     "execution_count": 2,
     "metadata": {},
     "output_type": "execute_result"
    }
   ],
   "source": [
    "df = pd.read_csv(\"../Data/credit_risk_dataset_cleaned.csv\")\n",
    "df"
   ]
  },
  {
   "cell_type": "markdown",
   "id": "fa80027e-4714-4cbc-ac3d-d4edd5cfa6b8",
   "metadata": {},
   "source": [
    "# Analysis"
   ]
  },
  {
   "cell_type": "markdown",
   "id": "8f6a787f-f215-415d-8abb-25fd98c5d05d",
   "metadata": {},
   "source": [
    "\n",
    "# Objective : \n",
    "\n",
    "The main purpose of this data analysis is to check the effect of each attributes on the label 'loan status'. And also to find out what are all the factors which affect the loan status.\n",
    "\n",
    "For this purpose we will be doing Univariate as well as Multivariate Analysis on the attributes."
   ]
  },
  {
   "cell_type": "markdown",
   "id": "f8454a6f-5b96-44ab-b895-6a5b5b357e6d",
   "metadata": {},
   "source": [
    "# person_age"
   ]
  },
  {
   "cell_type": "code",
   "execution_count": 3,
   "id": "ec9f7cb1-0522-4f15-9610-46d1b4261ba0",
   "metadata": {},
   "outputs": [
    {
     "data": {
      "text/plain": [
       "<AxesSubplot:>"
      ]
     },
     "execution_count": 3,
     "metadata": {},
     "output_type": "execute_result"
    },
    {
     "data": {
      "image/png": "[encoded data removed]",
      "text/plain": [
       "<Figure size 432x288 with 1 Axes>"
      ]
     },
     "metadata": {
      "needs_background": "light"
     },
     "output_type": "display_data"
    }
   ],
   "source": [
    "df[\"person_age\"].hist()"
   ]
  },
  {
   "cell_type": "markdown",
   "id": "eff79ad2-1245-4618-a1d7-df2bd0d42a1c",
   "metadata": {},
   "source": [
    "According to the above graph, we can see that the histogram is right skewed. Most of the data lies in the age range of 20 to 35."
   ]
  },
  {
   "cell_type": "code",
   "execution_count": 4,
   "id": "049b1bf1-abba-4e41-8a17-c45ae5f114f5",
   "metadata": {},
   "outputs": [],
   "source": [
    "person_counts_for_age_less_than_35 = df[(df[\"person_age\"]<35)][\"person_age\"].value_counts().sum()\n",
    "person_counts_for_age_between_35_50 = df[(df[\"person_age\"]>=35) & (df[\"person_age\"]<50)][\"person_age\"].value_counts().sum()\n",
    "person_counts_for_age_greater_than_50 = df[df[\"person_age\"]>=50][\"person_age\"].value_counts().sum()"
   ]
  },
  {
   "cell_type": "code",
   "execution_count": 5,
   "id": "48872b2e-4037-4418-a291-0d562c449513",
   "metadata": {},
   "outputs": [
    {
     "data": {
      "text/plain": [
       "<BarContainer object of 3 artists>"
      ]
     },
     "execution_count": 5,
     "metadata": {},
     "output_type": "execute_result"
    },
    {
     "data": {
      "image/png": "[encoded data removed]",
      "text/plain": [
       "<Figure size 432x288 with 1 Axes>"
      ]
     },
     "metadata": {
      "needs_background": "light"
     },
     "output_type": "display_data"
    }
   ],
   "source": [
    "age_categories = {\n",
    "    '<35' : person_counts_for_age_less_than_35,\n",
    "    '35-50' : person_counts_for_age_between_35_50,\n",
    "    '>50' : person_counts_for_age_greater_than_50\n",
    "    \n",
    "}\n",
    "x = list(age_categories.keys())\n",
    "y = list(age_categories.values())\n",
    "plt.bar(x = x, height = y)"
   ]
  },
  {
   "cell_type": "markdown",
   "id": "1af9bb91-c2a1-4bc0-aa64-320f0b0a34eb",
   "metadata": {},
   "source": [
    "We can clearly see from the above bar graphs that majority of the loans have been taken by the younger generation people who have age <35, whereas the relatively older people donot have a major share in getting a loan. This is because younger people tend to have a higher risk taking ability."
   ]
  },
  {
   "cell_type": "code",
   "execution_count": 6,
   "id": "65500914-dff4-4119-880f-60f3531bf819",
   "metadata": {},
   "outputs": [
    {
     "name": "stdout",
     "output_type": "stream",
     "text": [
      "[87.52794076557697, 11.445236099469126, 1.0268231349538977]\n"
     ]
    },
    {
     "data": {
      "text/plain": [
       "([<matplotlib.patches.Wedge at 0x260eca71d60>,\n",
       "  <matplotlib.patches.Wedge at 0x260eca7f550>,\n",
       "  <matplotlib.patches.Wedge at 0x260eca7fcd0>],\n",
       " [Text(-0.4200596790931397, -1.016636545674101, '<35'),\n",
       "  Text(0.45263084640861095, 1.0025593832184827, '35-50'),\n",
       "  Text(0.035478578168597015, 1.0994277013479035, '>50')])"
      ]
     },
     "execution_count": 6,
     "metadata": {},
     "output_type": "execute_result"
    },
    {
     "data": {
      "image/png": "[encoded data removed]",
      "text/plain": [
       "<Figure size 720x504 with 1 Axes>"
      ]
     },
     "metadata": {},
     "output_type": "display_data"
    }
   ],
   "source": [
    "age_categories = {\n",
    "    '<35' : 100*person_counts_for_age_less_than_35/df.shape[0],\n",
    "    '35-50' : 100*person_counts_for_age_between_35_50/df.shape[0],\n",
    "    '>50' : 100*person_counts_for_age_greater_than_50/df.shape[0]\n",
    "    \n",
    "}\n",
    "print(list(age_categories.values()))\n",
    "fig, ax = plt.subplots(figsize =(10, 7))\n",
    "ax.pie(list(age_categories.values()),labels = list(age_categories.keys()),shadow = True,startangle = 90,textprops = dict(color =\"magenta\"))"
   ]
  },
  {
   "cell_type": "markdown",
   "id": "40cc39b6-935f-44e5-877f-a313cedff4c2",
   "metadata": {},
   "source": [
    "As we can see clearly that people <35 years of age takes 87.5% (clear majority) of the pie chart area."
   ]
  },
  {
   "cell_type": "code",
   "execution_count": 43,
   "id": "087608e3-e50c-4f4b-b7bb-fdd0e026586b",
   "metadata": {},
   "outputs": [
    {
     "data": {
      "image/png": "[encoded data removed]",
      "text/plain": [
       "<Figure size 864x576 with 1 Axes>"
      ]
     },
     "metadata": {
      "needs_background": "light"
     },
     "output_type": "display_data"
    }
   ],
   "source": [
    "default = [df[df[\"person_age\"]<35][\"loan_status\"].value_counts()[1], \n",
    "           df[(df[\"person_age\"]>=35) & (df[\"person_age\"]<50)][\"loan_status\"].value_counts()[1],\n",
    "           df[df[\"person_age\"]>=50][\"loan_status\"].value_counts()[1]]\n",
    "\n",
    "\n",
    "non_default = [df[df[\"person_age\"]<35][\"loan_status\"].value_counts()[0],\n",
    "              df[(df[\"person_age\"]>=35) & (df[\"person_age\"]<50)][\"loan_status\"].value_counts()[0],\n",
    "              df[df[\"person_age\"]>=50][\"loan_status\"].value_counts()[0]]\n",
    "\n",
    "x = np.arange(3)\n",
    "plt.figure(figsize=(12,8))\n",
    "plt.bar(x-0.2, height=default,width=0.2, color='cyan')\n",
    "plt.bar(x, height=non_default,width=0.2, color='orange')\n",
    "plt.xticks(x,['<35','35-50','>50'])\n",
    "plt.xlabel(\"Age Categories\")\n",
    "plt.ylabel(\"Cummulative Loan Counts\")\n",
    "plt.legend([\"Default\", \"Non-Default\"])\n",
    "plt.show()"
   ]
  },
  {
   "cell_type": "markdown",
   "id": "d92776a9-5204-418d-9691-e67d196e5f7b",
   "metadata": {},
   "source": [
    "In the Bar Chart above we can see that for the people with age <35 years, the number of defaults is the most. But it cannot be concluded that people of age group <35 years are majority as we dont have much data for the other categories. Therefore we will try to find out the relative percentage of defaulters vs non-defaulters for each category."
   ]
  },
  {
   "cell_type": "code",
   "execution_count": 66,
   "id": "69f05de2-c260-4417-879c-db61f9a25f87",
   "metadata": {},
   "outputs": [
    {
     "name": "stdout",
     "output_type": "stream",
     "text": [
      "dict_values([33.115809623248936, 14.34918648310388, 8.886971527178602])\n"
     ]
    },
    {
     "data": {
      "image/png": "[encoded data removed]",
      "text/plain": [
       "<Figure size 432x288 with 1 Axes>"
      ]
     },
     "metadata": {
      "needs_background": "light"
     },
     "output_type": "display_data"
    }
   ],
   "source": [
    "relative_default_less_than_35 = 100*default[0]/(default[0]+non_default[0])\n",
    "relative_default_35_50 = 100*default[1]/(default[1]+non_default[1])\n",
    "relative_default_greater_than_50 = 100*default[2]/(default[2]+non_default[2])\n",
    "\n",
    "dic = {\n",
    "    '<35' : relative_default_less_than_35,\n",
    "    '35-50' : relative_default_35_50,\n",
    "    '>50' : relative_default_greater_than_50\n",
    "    \n",
    "}\n",
    "x = list(dic.keys())\n",
    "y = list(dic.values())\n",
    "plt.bar(x = x, height = y)\n",
    "\n",
    "print(dic.values())"
   ]
  },
  {
   "cell_type": "markdown",
   "id": "056a523a-fd5a-4adb-a434-7629890bfc0b",
   "metadata": {},
   "source": [
    "As we can see here, the relative percent of default is highest for people of age group <35 years (33.11%) followed by people of age group 35-50 years (14.34%) and >50 years having a minimum share of 8.8%. Therefore we can say that young age people are more prone to make deafults.\n",
    "\n",
    "Therefore it is conclusive that 'person_age' is an important contributing factor for deciding whether a person can be a defaulter or not."
   ]
  },
  {
   "cell_type": "markdown",
   "id": "330cc3c8-92bb-4693-a8d5-a6008f4a83d3",
   "metadata": {},
   "source": [
    "# person_income"
   ]
  },
  {
   "cell_type": "code",
   "execution_count": 59,
   "id": "78fac7fe-1908-40a3-9a03-de0e75c2ffa0",
   "metadata": {},
   "outputs": [
    {
     "data": {
      "text/plain": [
       "(4000.0, 2100000.0)"
      ]
     },
     "execution_count": 59,
     "metadata": {},
     "output_type": "execute_result"
    },
    {
     "data": {
      "image/png": "[encoded data removed]",
      "text/plain": [
       "<Figure size 432x288 with 1 Axes>"
      ]
     },
     "metadata": {
      "needs_background": "light"
     },
     "output_type": "display_data"
    }
   ],
   "source": [
    "df[\"person_income\"].hist()\n",
    "plt.xlim(xmin=4000, xmax = 2100000)"
   ]
  },
  {
   "cell_type": "markdown",
   "id": "cedeb2f8-181a-493c-ba2a-0269f856bfbd",
   "metadata": {},
   "source": [
    "According to the above graph, we can see that the histogram is right skewed. Most of the data lies in the income range of 4000-200,000"
   ]
  },
  {
   "cell_type": "code",
   "execution_count": 57,
   "id": "4b0c6b76-6340-4db9-8dcc-f269a9f79676",
   "metadata": {},
   "outputs": [
    {
     "data": {
      "text/plain": [
       "2039784"
      ]
     },
     "execution_count": 57,
     "metadata": {},
     "output_type": "execute_result"
    }
   ],
   "source": [
    "max(df[\"person_income\"])"
   ]
  },
  {
   "cell_type": "code",
   "execution_count": 67,
   "id": "a37cca4e-31c2-4771-a0cd-48004b723f14",
   "metadata": {},
   "outputs": [],
   "source": [
    "# 0-50,000       --> lower class\n",
    "# 50,000-150,000 --> middle class\n",
    "# >150,000       --> upper class\n",
    "\n",
    "person_countsfor_income_less_than_50k = df[df[\"person_income\"]<50000][\"person_income\"].value_counts().sum()\n",
    "person_counts_for_income_between_50k_150k = df[(df[\"person_income\"]>=50000) & (df[\"person_income\"]<150000)][\"person_income\"].value_counts().sum()\n",
    "person_counts_for_income_greater_than_150k = df[df[\"person_income\"]>=150000].value_counts().sum()"
   ]
  },
  {
   "cell_type": "code",
   "execution_count": 68,
   "id": "627a6fc6-09f6-4b19-9076-a7bfe56fcd7d",
   "metadata": {},
   "outputs": [
    {
     "data": {
      "text/plain": [
       "<BarContainer object of 3 artists>"
      ]
     },
     "execution_count": 68,
     "metadata": {},
     "output_type": "execute_result"
    },
    {
     "data": {
      "image/png": "[encoded data removed]",
      "text/plain": [
       "<Figure size 432x288 with 1 Axes>"
      ]
     },
     "metadata": {
      "needs_background": "light"
     },
     "output_type": "display_data"
    }
   ],
   "source": [
    "age_categories = {\n",
    "    '<50k' : person_counts_for_income_less_than_50k,\n",
    "    '50k-150k' : person_counts_for_income_between_50k_150k,\n",
    "    '>150k' : person_counts_for_income_greater_than_150k\n",
    "    \n",
    "}\n",
    "x = list(age_categories.keys())\n",
    "y = list(age_categories.values())\n",
    "plt.bar(x = x, height = y)"
   ]
  },
  {
   "cell_type": "markdown",
   "id": "756e8a4e-892a-4b93-83ad-a8ff5b4a2710",
   "metadata": {},
   "source": [
    "As we can see from tha above bar chart that people with mid level income (50k-150k) has the highest loan borrowing tendency followed by people with the least income level (<50k). In order to get a quantitative view, lets look at the pie chart below"
   ]
  },
  {
   "cell_type": "code",
   "execution_count": 69,
   "id": "71c00177-b98f-454d-8f76-90eed5491123",
   "metadata": {},
   "outputs": [
    {
     "name": "stdout",
     "output_type": "stream",
     "text": [
      "[40.140402347024306, 55.81167924001117, 4.047918412964515]\n"
     ]
    },
    {
     "data": {
      "text/plain": [
       "([<matplotlib.patches.Wedge at 0x260f2666a00>,\n",
       "  <matplotlib.patches.Wedge at 0x260f2666f40>,\n",
       "  <matplotlib.patches.Wedge at 0x260f2682d90>],\n",
       " [Text(-1.0476512915315113, 0.3353010160323953, '<50k'),\n",
       "  Text(0.9966661784717359, -0.4654637780650028, '50k-150k'),\n",
       "  Text(0.13950990648327094, 1.0911173108300634, '>150k')])"
      ]
     },
     "execution_count": 69,
     "metadata": {},
     "output_type": "execute_result"
    },
    {
     "data": {
      "image/png": "[encoded data removed]",
      "text/plain": [
       "<Figure size 720x504 with 1 Axes>"
      ]
     },
     "metadata": {},
     "output_type": "display_data"
    }
   ],
   "source": [
    "age_categories = {\n",
    "    '<50k' : 100*person_counts_for_income_less_than_50k/df.shape[0],\n",
    "    '50k-150k' : 100*person_counts_for_income_between_50k_150k/df.shape[0],\n",
    "    '>150k' : 100*person_counts_for_income_greater_than_150k/df.shape[0]\n",
    "    \n",
    "}\n",
    "print(list(age_categories.values()))\n",
    "fig, ax = plt.subplots(figsize =(10, 7))\n",
    "ax.pie(list(age_categories.values()),labels = list(age_categories.keys()),shadow = True,startangle = 90,textprops = dict(color =\"magenta\"))"
   ]
  },
  {
   "cell_type": "markdown",
   "id": "721615fe-c914-40e3-b8ba-f9f12f4bf2c6",
   "metadata": {},
   "source": [
    "We can clearly see from the above pie chart that majority of the loans are taken by the people belonging to the low and mid level income with highest being 50k-150k with a share of (55.8%) and secondly <50k with a share of (40.1%), whereas high income bracket people (>150k) has a minimum share of (4.04%)"
   ]
  },
  {
   "cell_type": "code",
   "execution_count": 70,
   "id": "d17099f9-a341-4fce-a2b4-82a203d966bb",
   "metadata": {},
   "outputs": [],
   "source": [
    "person_countsfor_income_less_than_50k = df[df[\"person_income\"]<50000][\"person_income\"].value_counts().sum()\n",
    "person_counts_for_income_between_50k_150k = df[(df[\"person_income\"]>=50000) & (df[\"person_income\"]<150000)][\"person_income\"].value_counts().sum()\n",
    "person_counts_for_income_greater_than_150k = df[df[\"person_income\"]>=150000].value_counts().sum()"
   ]
  },
  {
   "cell_type": "code",
   "execution_count": 71,
   "id": "03089359-baa0-490b-bcc6-503c1668cca6",
   "metadata": {},
   "outputs": [
    {
     "data": {
      "image/png": "[encoded data removed]",
      "text/plain": [
       "<Figure size 864x576 with 1 Axes>"
      ]
     },
     "metadata": {
      "needs_background": "light"
     },
     "output_type": "display_data"
    }
   ],
   "source": [
    "default = [df[df[\"person_income\"]<50000][\"loan_status\"].value_counts()[1], \n",
    "           df[(df[\"person_income\"]>=50000) & (df[\"person_income\"]<150000)][\"loan_status\"].value_counts()[1],\n",
    "           df[df[\"person_income\"]>=150000][\"loan_status\"].value_counts()[1]]\n",
    "\n",
    "\n",
    "non_default = [df[df[\"person_income\"]<50000][\"loan_status\"].value_counts()[0],\n",
    "              df[(df[\"person_income\"]>=50000) & (df[\"person_income\"]<150000)][\"loan_status\"].value_counts()[0],\n",
    "              df[df[\"person_income\"]>=150000][\"loan_status\"].value_counts()[0]]\n",
    "\n",
    "x = np.arange(3)\n",
    "plt.figure(figsize=(12,8))\n",
    "plt.bar(x-0.2, height=default,width=0.2, color='cyan')\n",
    "plt.bar(x, height=non_default,width=0.2, color='orange')\n",
    "plt.xticks(x,['<50k','50k-150k','>150k'])\n",
    "plt.xlabel(\"Age Categories\")\n",
    "plt.ylabel(\"Cummulative Loan Counts\")\n",
    "plt.legend([\"Default\", \"Non-Default\"])\n",
    "plt.show()"
   ]
  },
  {
   "cell_type": "code",
   "execution_count": 72,
   "id": "d75d23e3-19d2-4d4f-b405-fb213cd2da76",
   "metadata": {},
   "outputs": [
    {
     "name": "stdout",
     "output_type": "stream",
     "text": [
      "dict_values([33.115809623248936, 14.34918648310388, 8.886971527178602])\n"
     ]
    },
    {
     "data": {
      "image/png": "[encoded data removed]",
      "text/plain": [
       "<Figure size 432x288 with 1 Axes>"
      ]
     },
     "metadata": {
      "needs_background": "light"
     },
     "output_type": "display_data"
    }
   ],
   "source": [
    "relative_default_less_than_50k = 100*default[0]/(default[0]+non_default[0])\n",
    "relative_default_50k_150k = 100*default[1]/(default[1]+non_default[1])\n",
    "relative_default_greater_than_150k = 100*default[2]/(default[2]+non_default[2])\n",
    "\n",
    "dic = {\n",
    "    '<50k' : relative_default_less_than_50k,\n",
    "    '50k-150k' : relative_default_50k_150k,\n",
    "    '>150k' : relative_default_greater_than_150k\n",
    "    \n",
    "}\n",
    "x = list(dic.keys())\n",
    "y = list(dic.values())\n",
    "plt.bar(x = x, height = y)\n",
    "\n",
    "print(dic.values())"
   ]
  },
  {
   "cell_type": "markdown",
   "id": "3d26ae37-cf85-4dfd-bbda-36497e2f5eb9",
   "metadata": {},
   "source": [
    "As we can see clearly from the above bar chart that people belonging to low income category (<50k) have more chances of commiting default relative_default percentage (33.11%) followed by (50k-150k) with a relative default percentage of (14.4%).\n",
    "\n",
    "Therefore we can say that 'person_income' also affects whether a person will be defaulter or not."
   ]
  },
  {
   "cell_type": "code",
   "execution_count": 73,
   "id": "196ded3c-fb88-4ad9-afed-6f57df7f54e6",
   "metadata": {},
   "outputs": [
    {
     "data": {
      "text/html": [
       "<div>\n",
       "<style scoped>\n",
       "    .dataframe tbody tr th:only-of-type {\n",
       "        vertical-align: middle;\n",
       "    }\n",
       "\n",
       "    .dataframe tbody tr th {\n",
       "        vertical-align: top;\n",
       "    }\n",
       "\n",
       "    .dataframe thead th {\n",
       "        text-align: right;\n",
       "    }\n",
       "</style>\n",
       "<table border=\"1\" class=\"dataframe\">\n",
       "  <thead>\n",
       "    <tr style=\"text-align: right;\">\n",
       "      <th></th>\n",
       "      <th>person_age</th>\n",
       "      <th>person_income</th>\n",
       "      <th>person_home_ownership</th>\n",
       "      <th>person_emp_length</th>\n",
       "      <th>loan_intent</th>\n",
       "      <th>loan_grade</th>\n",
       "      <th>loan_amnt</th>\n",
       "      <th>loan_int_rate</th>\n",
       "      <th>loan_status</th>\n",
       "      <th>loan_percent_income</th>\n",
       "      <th>cb_person_default_on_file</th>\n",
       "      <th>cb_person_cred_hist_length</th>\n",
       "    </tr>\n",
       "  </thead>\n",
       "  <tbody>\n",
       "    <tr>\n",
       "      <th>0</th>\n",
       "      <td>21</td>\n",
       "      <td>9600</td>\n",
       "      <td>OWN</td>\n",
       "      <td>5.0</td>\n",
       "      <td>EDUCATION</td>\n",
       "      <td>B</td>\n",
       "      <td>1000</td>\n",
       "      <td>11.14</td>\n",
       "      <td>0</td>\n",
       "      <td>0.10</td>\n",
       "      <td>N</td>\n",
       "      <td>2</td>\n",
       "    </tr>\n",
       "    <tr>\n",
       "      <th>1</th>\n",
       "      <td>25</td>\n",
       "      <td>9600</td>\n",
       "      <td>MORTGAGE</td>\n",
       "      <td>1.0</td>\n",
       "      <td>MEDICAL</td>\n",
       "      <td>C</td>\n",
       "      <td>5500</td>\n",
       "      <td>12.87</td>\n",
       "      <td>1</td>\n",
       "      <td>0.57</td>\n",
       "      <td>N</td>\n",
       "      <td>3</td>\n",
       "    </tr>\n",
       "    <tr>\n",
       "      <th>2</th>\n",
       "      <td>23</td>\n",
       "      <td>65500</td>\n",
       "      <td>RENT</td>\n",
       "      <td>4.0</td>\n",
       "      <td>MEDICAL</td>\n",
       "      <td>C</td>\n",
       "      <td>35000</td>\n",
       "      <td>15.23</td>\n",
       "      <td>1</td>\n",
       "      <td>0.53</td>\n",
       "      <td>N</td>\n",
       "      <td>2</td>\n",
       "    </tr>\n",
       "    <tr>\n",
       "      <th>3</th>\n",
       "      <td>24</td>\n",
       "      <td>54400</td>\n",
       "      <td>RENT</td>\n",
       "      <td>8.0</td>\n",
       "      <td>MEDICAL</td>\n",
       "      <td>C</td>\n",
       "      <td>35000</td>\n",
       "      <td>14.27</td>\n",
       "      <td>1</td>\n",
       "      <td>0.55</td>\n",
       "      <td>Y</td>\n",
       "      <td>4</td>\n",
       "    </tr>\n",
       "    <tr>\n",
       "      <th>4</th>\n",
       "      <td>21</td>\n",
       "      <td>9900</td>\n",
       "      <td>OWN</td>\n",
       "      <td>2.0</td>\n",
       "      <td>VENTURE</td>\n",
       "      <td>A</td>\n",
       "      <td>2500</td>\n",
       "      <td>7.14</td>\n",
       "      <td>1</td>\n",
       "      <td>0.25</td>\n",
       "      <td>N</td>\n",
       "      <td>2</td>\n",
       "    </tr>\n",
       "    <tr>\n",
       "      <th>...</th>\n",
       "      <td>...</td>\n",
       "      <td>...</td>\n",
       "      <td>...</td>\n",
       "      <td>...</td>\n",
       "      <td>...</td>\n",
       "      <td>...</td>\n",
       "      <td>...</td>\n",
       "      <td>...</td>\n",
       "      <td>...</td>\n",
       "      <td>...</td>\n",
       "      <td>...</td>\n",
       "      <td>...</td>\n",
       "    </tr>\n",
       "    <tr>\n",
       "      <th>28627</th>\n",
       "      <td>57</td>\n",
       "      <td>53000</td>\n",
       "      <td>MORTGAGE</td>\n",
       "      <td>1.0</td>\n",
       "      <td>PERSONAL</td>\n",
       "      <td>C</td>\n",
       "      <td>5800</td>\n",
       "      <td>13.16</td>\n",
       "      <td>0</td>\n",
       "      <td>0.11</td>\n",
       "      <td>N</td>\n",
       "      <td>30</td>\n",
       "    </tr>\n",
       "    <tr>\n",
       "      <th>28628</th>\n",
       "      <td>54</td>\n",
       "      <td>120000</td>\n",
       "      <td>MORTGAGE</td>\n",
       "      <td>4.0</td>\n",
       "      <td>PERSONAL</td>\n",
       "      <td>A</td>\n",
       "      <td>17625</td>\n",
       "      <td>7.49</td>\n",
       "      <td>0</td>\n",
       "      <td>0.15</td>\n",
       "      <td>N</td>\n",
       "      <td>19</td>\n",
       "    </tr>\n",
       "    <tr>\n",
       "      <th>28629</th>\n",
       "      <td>65</td>\n",
       "      <td>76000</td>\n",
       "      <td>RENT</td>\n",
       "      <td>3.0</td>\n",
       "      <td>HOMEIMPROVEMENT</td>\n",
       "      <td>B</td>\n",
       "      <td>35000</td>\n",
       "      <td>10.99</td>\n",
       "      <td>1</td>\n",
       "      <td>0.46</td>\n",
       "      <td>N</td>\n",
       "      <td>28</td>\n",
       "    </tr>\n",
       "    <tr>\n",
       "      <th>28630</th>\n",
       "      <td>56</td>\n",
       "      <td>150000</td>\n",
       "      <td>MORTGAGE</td>\n",
       "      <td>5.0</td>\n",
       "      <td>PERSONAL</td>\n",
       "      <td>B</td>\n",
       "      <td>15000</td>\n",
       "      <td>11.48</td>\n",
       "      <td>0</td>\n",
       "      <td>0.10</td>\n",
       "      <td>N</td>\n",
       "      <td>26</td>\n",
       "    </tr>\n",
       "    <tr>\n",
       "      <th>28631</th>\n",
       "      <td>66</td>\n",
       "      <td>42000</td>\n",
       "      <td>RENT</td>\n",
       "      <td>2.0</td>\n",
       "      <td>MEDICAL</td>\n",
       "      <td>B</td>\n",
       "      <td>6475</td>\n",
       "      <td>9.99</td>\n",
       "      <td>0</td>\n",
       "      <td>0.15</td>\n",
       "      <td>N</td>\n",
       "      <td>30</td>\n",
       "    </tr>\n",
       "  </tbody>\n",
       "</table>\n",
       "<p>28632 rows × 12 columns</p>\n",
       "</div>"
      ],
      "text/plain": [
       "       person_age  person_income person_home_ownership  person_emp_length  \\\n",
       "0              21           9600                   OWN                5.0   \n",
       "1              25           9600              MORTGAGE                1.0   \n",
       "2              23          65500                  RENT                4.0   \n",
       "3              24          54400                  RENT                8.0   \n",
       "4              21           9900                   OWN                2.0   \n",
       "...           ...            ...                   ...                ...   \n",
       "28627          57          53000              MORTGAGE                1.0   \n",
       "28628          54         120000              MORTGAGE                4.0   \n",
       "28629          65          76000                  RENT                3.0   \n",
       "28630          56         150000              MORTGAGE                5.0   \n",
       "28631          66          42000                  RENT                2.0   \n",
       "\n",
       "           loan_intent loan_grade  loan_amnt  loan_int_rate  loan_status  \\\n",
       "0            EDUCATION          B       1000          11.14            0   \n",
       "1              MEDICAL          C       5500          12.87            1   \n",
       "2              MEDICAL          C      35000          15.23            1   \n",
       "3              MEDICAL          C      35000          14.27            1   \n",
       "4              VENTURE          A       2500           7.14            1   \n",
       "...                ...        ...        ...            ...          ...   \n",
       "28627         PERSONAL          C       5800          13.16            0   \n",
       "28628         PERSONAL          A      17625           7.49            0   \n",
       "28629  HOMEIMPROVEMENT          B      35000          10.99            1   \n",
       "28630         PERSONAL          B      15000          11.48            0   \n",
       "28631          MEDICAL          B       6475           9.99            0   \n",
       "\n",
       "       loan_percent_income cb_person_default_on_file  \\\n",
       "0                     0.10                         N   \n",
       "1                     0.57                         N   \n",
       "2                     0.53                         N   \n",
       "3                     0.55                         Y   \n",
       "4                     0.25                         N   \n",
       "...                    ...                       ...   \n",
       "28627                 0.11                         N   \n",
       "28628                 0.15                         N   \n",
       "28629                 0.46                         N   \n",
       "28630                 0.10                         N   \n",
       "28631                 0.15                         N   \n",
       "\n",
       "       cb_person_cred_hist_length  \n",
       "0                               2  \n",
       "1                               3  \n",
       "2                               2  \n",
       "3                               4  \n",
       "4                               2  \n",
       "...                           ...  \n",
       "28627                          30  \n",
       "28628                          19  \n",
       "28629                          28  \n",
       "28630                          26  \n",
       "28631                          30  \n",
       "\n",
       "[28632 rows x 12 columns]"
      ]
     },
     "execution_count": 73,
     "metadata": {},
     "output_type": "execute_result"
    }
   ],
   "source": [
    "df"
   ]
  },
  {
   "cell_type": "code",
   "execution_count": null,
   "id": "56b612f1-154b-4dbf-b9be-aeb1d8ac7f37",
   "metadata": {},
   "outputs": [],
   "source": []
  }
 ],
 "metadata": {
  "kernelspec": {
   "display_name": "Python 3",
   "language": "python",
   "name": "python3"
  },
  "language_info": {
   "codemirror_mode": {
    "name": "ipython",
    "version": 3
   },
   "file_extension": ".py",
   "mimetype": "text/x-python",
   "name": "python",
   "nbconvert_exporter": "python",
   "pygments_lexer": "ipython3",
   "version": "3.8.8"
  }
 },
 "nbformat": 4,
 "nbformat_minor": 5
}
